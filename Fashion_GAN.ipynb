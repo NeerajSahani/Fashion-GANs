{
  "nbformat": 4,
  "nbformat_minor": 0,
  "metadata": {
    "colab": {
      "name": "Fashion GAN.ipynb",
      "provenance": [],
      "collapsed_sections": [],
      "authorship_tag": "ABX9TyO0UxpSji81GSIEXn2lEp0B",
      "include_colab_link": true
    },
    "kernelspec": {
      "name": "python3",
      "display_name": "Python 3"
    },
    "accelerator": "GPU"
  },
  "cells": [
    {
      "cell_type": "markdown",
      "metadata": {
        "id": "view-in-github",
        "colab_type": "text"
      },
      "source": [
        "<a href=\"https://colab.research.google.com/github/NeerajSahani/Fashion-GANs/blob/main/Fashion_GAN.ipynb\" target=\"_parent\"><img src=\"https://colab.research.google.com/assets/colab-badge.svg\" alt=\"Open In Colab\"/></a>"
      ]
    },
    {
      "cell_type": "code",
      "metadata": {
        "id": "_R1-mhaiPbHH"
      },
      "source": [
        "import os\n",
        "import time\n",
        "import numpy as np\n",
        "from tqdm import tqdm\n",
        "import tensorflow as tf\n",
        "from IPython import display\n",
        "import matplotlib.pyplot as plt\n",
        "from tensorflow.keras import layers"
      ],
      "execution_count": null,
      "outputs": []
    },
    {
      "cell_type": "markdown",
      "metadata": {
        "id": "7KStewpJsjpM"
      },
      "source": [
        "## Load Data"
      ]
    },
    {
      "cell_type": "code",
      "metadata": {
        "id": "wx90SQ7yQrkp",
        "outputId": "361115c7-f532-4249-c411-e47f3a8d1785",
        "colab": {
          "base_uri": "https://localhost:8080/"
        }
      },
      "source": [
        "(train_images, _), (test_images, _) = tf.keras.datasets.fashion_mnist.load_data()"
      ],
      "execution_count": 3,
      "outputs": [
        {
          "output_type": "stream",
          "text": [
            "Downloading data from https://storage.googleapis.com/tensorflow/tf-keras-datasets/train-labels-idx1-ubyte.gz\n",
            "32768/29515 [=================================] - 0s 0us/step\n",
            "Downloading data from https://storage.googleapis.com/tensorflow/tf-keras-datasets/train-images-idx3-ubyte.gz\n",
            "26427392/26421880 [==============================] - 0s 0us/step\n",
            "Downloading data from https://storage.googleapis.com/tensorflow/tf-keras-datasets/t10k-labels-idx1-ubyte.gz\n",
            "8192/5148 [===============================================] - 0s 0us/step\n",
            "Downloading data from https://storage.googleapis.com/tensorflow/tf-keras-datasets/t10k-images-idx3-ubyte.gz\n",
            "4423680/4422102 [==============================] - 0s 0us/step\n"
          ],
          "name": "stdout"
        }
      ]
    },
    {
      "cell_type": "code",
      "metadata": {
        "id": "zcye-07pSrVZ"
      },
      "source": [
        "images = np.concatenate((train_images, test_images))\n",
        "images = images.reshape(-1, 28, 28, 1).astype(np.float_)\n",
        "images = (images - 127.5)/127.5"
      ],
      "execution_count": 10,
      "outputs": []
    },
    {
      "cell_type": "markdown",
      "metadata": {
        "id": "2ZchNxrEUDfx"
      },
      "source": [
        "## Constants"
      ]
    },
    {
      "cell_type": "code",
      "metadata": {
        "id": "OjRGnWAATgVa"
      },
      "source": [
        "EPOCHS = 100\n",
        "latent_dim = 100\n",
        "BATCH_SIZE = 256\n",
        "BUFFER_SIZE = 70000\n",
        "num_samples_to_generate = 16\n",
        "seed = tf.random.normal([num_samples_to_generate, latent_dim])"
      ],
      "execution_count": 11,
      "outputs": []
    },
    {
      "cell_type": "code",
      "metadata": {
        "id": "q9AEQh8gUZJx"
      },
      "source": [
        "images = tf.data.Dataset.from_tensor_slices(images).shuffle(BUFFER_SIZE).batch(BATCH_SIZE)"
      ],
      "execution_count": 12,
      "outputs": []
    },
    {
      "cell_type": "markdown",
      "metadata": {
        "id": "WqYybvyMsqWE"
      },
      "source": [
        "## Make Generator Model"
      ]
    },
    {
      "cell_type": "code",
      "metadata": {
        "id": "LtqhtY0kUo-I"
      },
      "source": [
        "generator = tf.keras.Sequential()\n",
        "generator.add(layers.Dense(7*7*256, use_bias=False, input_shape=(latent_dim, )))\n",
        "generator.add(layers.BatchNormalization())\n",
        "generator.add(layers.LeakyReLU())\n",
        "\n",
        "generator.add(layers.Reshape((7, 7, 256)))\n",
        "\n",
        "generator.add(layers.Conv2DTranspose(128, (5, 5), strides=(1, 1), padding='same', use_bias=True))\n",
        "generator.add(layers.BatchNormalization())\n",
        "generator.add(layers.LeakyReLU())\n",
        "\n",
        "generator.add(layers.Conv2DTranspose(64, (5, 5), strides=(2, 2), padding='same', use_bias=True))\n",
        "generator.add(layers.BatchNormalization())\n",
        "generator.add(layers.LeakyReLU())\n",
        "\n",
        "generator.add(layers.Conv2DTranspose(1, (5, 5), strides=(2, 2), padding='same', use_bias=True, activation='tanh'))"
      ],
      "execution_count": 14,
      "outputs": []
    },
    {
      "cell_type": "code",
      "metadata": {
        "id": "A1et_D8bWez9",
        "outputId": "234a88be-2b3b-413f-b24f-3697f7512ef6",
        "colab": {
          "base_uri": "https://localhost:8080/",
          "height": 281
        }
      },
      "source": [
        "noise = tf.random.normal([1, latent_dim])\n",
        "gen_img = generator(noise, training=False)\n",
        "plt.imshow(gen_img[0, :, :, 0], cmap='gray')"
      ],
      "execution_count": 15,
      "outputs": [
        {
          "output_type": "execute_result",
          "data": {
            "text/plain": [
              "<matplotlib.image.AxesImage at 0x7f934f7c2630>"
            ]
          },
          "metadata": {
            "tags": []
          },
          "execution_count": 15
        },
        {
          "output_type": "display_data",
          "data": {
            "image/png": "[encoded data removed]",
            "text/plain": [
              "<Figure size 432x288 with 1 Axes>"
            ]
          },
          "metadata": {
            "tags": [],
            "needs_background": "light"
          }
        }
      ]
    },
    {
      "cell_type": "markdown",
      "metadata": {
        "id": "2w_KHSg7s2rJ"
      },
      "source": [
        "## Make Discriminator Model"
      ]
    },
    {
      "cell_type": "code",
      "metadata": {
        "id": "5aVAf0LlXAyO"
      },
      "source": [
        "discriminator = tf.keras.Sequential()\n",
        "discriminator.add(layers.Conv2D(64, (5, 5), strides=(2, 2), padding='same', input_shape=(28, 28, 1)))\n",
        "discriminator.add(layers.LeakyReLU())\n",
        "discriminator.add(layers.Dropout(0.3))\n",
        "\n",
        "discriminator.add(layers.Conv2D(128, (5, 5), strides=(2, 2), padding='same'))\n",
        "discriminator.add(layers.LeakyReLU())\n",
        "discriminator.add(layers.Dropout(0.3))\n",
        "\n",
        "discriminator.add(layers.Flatten())\n",
        "discriminator.add(layers.Dense(1))"
      ],
      "execution_count": 17,
      "outputs": []
    },
    {
      "cell_type": "code",
      "metadata": {
        "id": "cipXVKziYxFK",
        "outputId": "2b216202-fe76-488e-f8e5-a57cbdcdbd25",
        "colab": {
          "base_uri": "https://localhost:8080/"
        }
      },
      "source": [
        "decision = discriminator(gen_img, training=False)\n",
        "print(decision)"
      ],
      "execution_count": 18,
      "outputs": [
        {
          "output_type": "stream",
          "text": [
            "tf.Tensor([[0.0032769]], shape=(1, 1), dtype=float32)\n"
          ],
          "name": "stdout"
        }
      ]
    },
    {
      "cell_type": "markdown",
      "metadata": {
        "id": "m6YTA7BFtGwz"
      },
      "source": [
        "## Loss Function"
      ]
    },
    {
      "cell_type": "code",
      "metadata": {
        "id": "ketSpftOY-Px"
      },
      "source": [
        "cross_entropy = tf.losses.BinaryCrossentropy(from_logits=True)"
      ],
      "execution_count": 19,
      "outputs": []
    },
    {
      "cell_type": "code",
      "metadata": {
        "id": "0ZYxagclaZmI"
      },
      "source": [
        "def discriminator_loss(real_output, fake_output):\n",
        "  real_loss = cross_entropy(tf.ones_like(real_output), real_output)\n",
        "  fake_loss = cross_entropy(tf.zeros_like(fake_output), fake_output)\n",
        "  return real_loss + fake_loss\n",
        "\n",
        "def generator_loss(fake_output):\n",
        "  return cross_entropy(tf.ones_like(fake_output), fake_output)"
      ],
      "execution_count": 20,
      "outputs": []
    },
    {
      "cell_type": "markdown",
      "metadata": {
        "id": "KksIpUhctMqk"
      },
      "source": [
        "## Define Optimizers"
      ]
    },
    {
      "cell_type": "code",
      "metadata": {
        "id": "eg50nZDnbnSM"
      },
      "source": [
        "generator_optimizer = tf.optimizers.Adam(1e-4)\n",
        "discriminator_optimizer = tf.optimizers.Adam(1e-4)"
      ],
      "execution_count": 21,
      "outputs": []
    },
    {
      "cell_type": "markdown",
      "metadata": {
        "id": "1z98jpWhtWn8"
      },
      "source": [
        "## Create Checkpoints"
      ]
    },
    {
      "cell_type": "code",
      "metadata": {
        "id": "2-LfBWBKbKiI"
      },
      "source": [
        "checkpoint_dir = './fashion_mnist_training_checkpoints'\n",
        "checkpoint_prefix = os.path.join(checkpoint_dir, 'ckpt')\n",
        "checkpoint = tf.train.Checkpoint(\n",
        "    generator_optimizer=generator_optimizer, \n",
        "    discriminator_optimizer=discriminator_optimizer,\n",
        "    generator = generator,\n",
        "    discriminator = discriminator\n",
        "    )"
      ],
      "execution_count": 24,
      "outputs": []
    },
    {
      "cell_type": "markdown",
      "metadata": {
        "id": "xZlPoe9OtadX"
      },
      "source": [
        "## Training"
      ]
    },
    {
      "cell_type": "code",
      "metadata": {
        "id": "SDewAM_McFRH"
      },
      "source": [
        "@tf.function\n",
        "def train_step(images):\n",
        "  noise = tf.random.normal([BATCH_SIZE, latent_dim])\n",
        "  with tf.GradientTape() as gen_tape, tf.GradientTape() as disc_tape:\n",
        "    generated_images = generator(noise, training=True)\n",
        "\n",
        "    real_output = discriminator(images, training=True)\n",
        "    fake_output = discriminator(generated_images, training=True)\n",
        "\n",
        "    # Calculate Loss\n",
        "    gen_loss = generator_loss(fake_output)\n",
        "    disc_loss = discriminator_loss(real_output, fake_output)\n",
        "\n",
        "  # Calculate gradient\n",
        "  gradients_of_generator = gen_tape.gradient(gen_loss, generator.trainable_variables)\n",
        "  gradients_of_discriminator = disc_tape.gradient(disc_loss, discriminator.trainable_variables)\n",
        "\n",
        "  # User gradients to update weights\n",
        "  generator_optimizer.apply_gradients(zip(gradients_of_generator, generator.trainable_variables))\n",
        "  discriminator_optimizer.apply_gradients(zip(gradients_of_discriminator, discriminator.trainable_variables))\n",
        "\n",
        "\n"
      ],
      "execution_count": 31,
      "outputs": []
    },
    {
      "cell_type": "code",
      "metadata": {
        "id": "sxCE-soVed7j"
      },
      "source": [
        "def generate_and_save_images(model, epoch, test_input):\n",
        "  predictions = model(test_input, training=False)\n",
        "  fig = plt.figure(figsize=(4,4))\n",
        "  for i in range(predictions.shape[0]):\n",
        "      plt.subplot(4, 4, i+1)\n",
        "      plt.imshow(predictions[i, :, :, 0] * 127.5 + 127.5, cmap='gray')\n",
        "      plt.axis('off')\n",
        "\n",
        "  plt.savefig('image_at_epoch_{:04d}.png'.format(epoch))\n",
        "  plt.show()"
      ],
      "execution_count": 26,
      "outputs": []
    },
    {
      "cell_type": "code",
      "metadata": {
        "id": "tQyNO5Qlfv3E"
      },
      "source": [
        "def train(dataset, epochs):\n",
        "  for epoch in range(epochs):\n",
        "    start = time.time()\n",
        "\n",
        "    for image_batch in dataset:\n",
        "      train_step(image_batch)\n",
        "\n",
        "    display.clear_output(wait=True)\n",
        "    generate_and_save_images(generator, epoch+1, seed)\n",
        "\n",
        "    if (epoch + 1) % 15 == 0:\n",
        "      checkpoint.save(file_prefix=checkpoint_prefix)\n",
        "      \n",
        "    print ('Time for epoch {} is {} sec'.format(epoch + 1, time.time()-start))\n",
        "  \n",
        "  #Final Output\n",
        "  display.clear_output(wait=True)\n",
        "  generate_and_save_images(generator, epochs, seed)"
      ],
      "execution_count": 29,
      "outputs": []
    },
    {
      "cell_type": "code",
      "metadata": {
        "id": "Cvlfw6fIhvCX",
        "outputId": "e7bcf155-1204-4079-df43-dcbaf2d5fd7b",
        "colab": {
          "base_uri": "https://localhost:8080/",
          "height": 248
        }
      },
      "source": [
        "train(images, EPOCHS)"
      ],
      "execution_count": 62,
      "outputs": [
        {
          "output_type": "display_data",
          "data": {
            "image/png": "[encoded data removed]",
            "text/plain": [
              "<Figure size 288x288 with 16 Axes>"
            ]
          },
          "metadata": {
            "tags": [],
            "needs_background": "light"
          }
        }
      ]
    },
    {
      "cell_type": "code",
      "metadata": {
        "id": "BP0SKLXYiyUw",
        "outputId": "2862ce0e-87f2-47c5-be7d-8c5081713419",
        "colab": {
          "base_uri": "https://localhost:8080/",
          "height": 281
        }
      },
      "source": [
        "plt.imshow(generator(tf.random.normal([1, latent_dim]), training=False)[0, :, :, 0], cmap='gray')"
      ],
      "execution_count": 78,
      "outputs": [
        {
          "output_type": "execute_result",
          "data": {
            "text/plain": [
              "<matplotlib.image.AxesImage at 0x7f9345e8d828>"
            ]
          },
          "metadata": {
            "tags": []
          },
          "execution_count": 78
        },
        {
          "output_type": "display_data",
          "data": {
            "image/png": "[encoded data removed]",
            "text/plain": [
              "<Figure size 432x288 with 1 Axes>"
            ]
          },
          "metadata": {
            "tags": [],
            "needs_background": "light"
          }
        }
      ]
    }
  ]
}